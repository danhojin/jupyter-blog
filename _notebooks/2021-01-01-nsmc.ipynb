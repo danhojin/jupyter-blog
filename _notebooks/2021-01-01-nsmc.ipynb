{
 "cells": [
  {
   "cell_type": "markdown",
   "metadata": {},
   "source": [
    "# 네이버 영화 리뷰의 감성 분석\n",
    "> 한국어 형태소 분석기 khaiii를 이용하여 네이버 영화 리뷰 말뭉치(nsmc)의 감성 분석을 수행한다.\n",
    "\n",
    "- toc: true\n",
    "- badges: true\n",
    "- author: 단호진\n",
    "- categories: [nlp]"
   ]
  },
  {
   "cell_type": "markdown",
   "metadata": {},
   "source": [
    "한글로 표기된 한국어는 어형변화가 많고 조사가 많은 역할을 한다. 조사로 말미암아 어순도 유연하게 구사할 수 있을뿐만 아니라 띄어쓰기가 내용을 전달하는데 결정적인 역할을 하지도 않는다. 이런 특징은 문장의 토큰화에 어려움을 가중시킨다. 게다가 최근 한국어 문서에서 알파벳 표기가 같이 들어오는 경우도 많은데 이를 처리하는 것도 또 다른 숙제이다. 그럼에도 다른 언어를 위하여 개발된 자연어 처리를 위한 기계학습과 심층학습의 원리는 한국어에도 마찬가지로 적용할 수 있으며, 한국어 처리를 위한 원리는 보편적으로도 유용하게 쓰일 수 있을 것이다.\n",
    "\n",
    "이 포스트에서는 카카오에서 공개한 [khaiii 형태소 분석기](https://github.com/kakao/khaiii)를 이용하여 [네이버 영화 리뷰 말뭉치](https://github.com/e9t/nsmc)에 대한 감성 분석을 진행해 보겠다.\n",
    "\n",
    "참고\n",
    "1. 전창욱, 최태균, 조중현, 신성진, 텐서플로2와 머신러닝으로 시작하는 자연어 처리, 위키북스, 2020\n",
    "2. 프랑소와 숄레, 박해선 옮김, 케라스 창시자에게 배우는 딥러닝"
   ]
  },
  {
   "cell_type": "markdown",
   "metadata": {},
   "source": [
    "## 데이터\n",
    "\n",
    "전체 영화 리뷰 데이터에서 형태소 분석을 진행한 후 훈련셋과 검정셋으로 나누어 진행하겠다. 20만 건의 리뷰가 있으며 긍정과 부정 레이블이 들어있다."
   ]
  },
  {
   "cell_type": "code",
   "execution_count": 1,
   "metadata": {},
   "outputs": [
    {
     "name": "stdout",
     "output_type": "stream",
     "text": [
      "The shape of dataframe: (200000, 3)\n"
     ]
    },
    {
     "data": {
      "text/html": [
       "<div>\n",
       "<style scoped>\n",
       "    .dataframe tbody tr th:only-of-type {\n",
       "        vertical-align: middle;\n",
       "    }\n",
       "\n",
       "    .dataframe tbody tr th {\n",
       "        vertical-align: top;\n",
       "    }\n",
       "\n",
       "    .dataframe thead th {\n",
       "        text-align: right;\n",
       "    }\n",
       "</style>\n",
       "<table border=\"1\" class=\"dataframe\">\n",
       "  <thead>\n",
       "    <tr style=\"text-align: right;\">\n",
       "      <th></th>\n",
       "      <th>id</th>\n",
       "      <th>document</th>\n",
       "      <th>label</th>\n",
       "    </tr>\n",
       "  </thead>\n",
       "  <tbody>\n",
       "    <tr>\n",
       "      <th>0</th>\n",
       "      <td>8112052</td>\n",
       "      <td>어릴때보고 지금다시봐도 재밌어요ㅋㅋ</td>\n",
       "      <td>1</td>\n",
       "    </tr>\n",
       "    <tr>\n",
       "      <th>1</th>\n",
       "      <td>8132799</td>\n",
       "      <td>디자인을 배우는 학생으로, 외국디자이너와 그들이 일군 전통을 통해 발전해가는 문화산...</td>\n",
       "      <td>1</td>\n",
       "    </tr>\n",
       "    <tr>\n",
       "      <th>2</th>\n",
       "      <td>4655635</td>\n",
       "      <td>폴리스스토리 시리즈는 1부터 뉴까지 버릴께 하나도 없음.. 최고.</td>\n",
       "      <td>1</td>\n",
       "    </tr>\n",
       "    <tr>\n",
       "      <th>3</th>\n",
       "      <td>9251303</td>\n",
       "      <td>와.. 연기가 진짜 개쩔구나.. 지루할거라고 생각했는데 몰입해서 봤다.. 그래 이런...</td>\n",
       "      <td>1</td>\n",
       "    </tr>\n",
       "    <tr>\n",
       "      <th>4</th>\n",
       "      <td>10067386</td>\n",
       "      <td>안개 자욱한 밤하늘에 떠 있는 초승달 같은 영화.</td>\n",
       "      <td>1</td>\n",
       "    </tr>\n",
       "  </tbody>\n",
       "</table>\n",
       "</div>"
      ],
      "text/plain": [
       "         id                                           document  label\n",
       "0   8112052                                어릴때보고 지금다시봐도 재밌어요ㅋㅋ      1\n",
       "1   8132799  디자인을 배우는 학생으로, 외국디자이너와 그들이 일군 전통을 통해 발전해가는 문화산...      1\n",
       "2   4655635               폴리스스토리 시리즈는 1부터 뉴까지 버릴께 하나도 없음.. 최고.      1\n",
       "3   9251303  와.. 연기가 진짜 개쩔구나.. 지루할거라고 생각했는데 몰입해서 봤다.. 그래 이런...      1\n",
       "4  10067386                        안개 자욱한 밤하늘에 떠 있는 초승달 같은 영화.      1"
      ]
     },
     "execution_count": 1,
     "metadata": {},
     "output_type": "execute_result"
    }
   ],
   "source": [
    "import numpy as np\n",
    "import pandas as pd\n",
    "import matplotlib.pyplot as plt\n",
    "import seaborn as sns\n",
    "%matplotlib inline\n",
    "\n",
    "df = pd.read_csv('https://github.com/e9t/nsmc/raw/master/ratings.txt', delimiter='\\t')\n",
    "print(f'The shape of dataframe: {df.shape}')\n",
    "df.head()"
   ]
  },
  {
   "cell_type": "code",
   "execution_count": 2,
   "metadata": {},
   "outputs": [
    {
     "data": {
      "image/png": "[encoded data removed]",
      "text/plain": [
       "<Figure size 720x576 with 1 Axes>"
      ]
     },
     "metadata": {
      "needs_background": "light"
     },
     "output_type": "display_data"
    }
   ],
   "source": [
    "fig, ax = plt.subplots(figsize=(10, 8))\n",
    "\n",
    "median = df['document'].astype(str).apply(len).median()\n",
    "ax = sns.histplot(df['document'].astype(str).apply(len), bins=30, ax=ax);\n",
    "ax.axvline(x=median, linewidth=2.5, color='blue')\n",
    "ax.text(median - 20, -2000, f'median={median}', color='blue', fontsize=15);"
   ]
  },
  {
   "cell_type": "markdown",
   "metadata": {},
   "source": [
    "리뷰 길이는 최대 140자로 제한되어 있으며 중앙값이 27로 짧은 리뷰이다."
   ]
  },
  {
   "cell_type": "markdown",
   "metadata": {},
   "source": [
    "## 형태소 분석\n",
    "\n",
    "형태소 분석에 khaiii를 이용한다. 가장 간단하게 분석을 진행하기 위하여 알파벳이나 숫자, 기타 기호 등을 제거해 보면, 빈 리뷰가 생기는데 데이터 셋에서 이를 제거하였다. document_1 열에 정리된 리뷰가 저장된다."
   ]
  },
  {
   "cell_type": "code",
   "execution_count": 3,
   "metadata": {},
   "outputs": [
    {
     "name": "stdout",
     "output_type": "stream",
     "text": [
      "The shape of dataframe: (197900, 4)\n"
     ]
    },
    {
     "data": {
      "text/html": [
       "<div>\n",
       "<style scoped>\n",
       "    .dataframe tbody tr th:only-of-type {\n",
       "        vertical-align: middle;\n",
       "    }\n",
       "\n",
       "    .dataframe tbody tr th {\n",
       "        vertical-align: top;\n",
       "    }\n",
       "\n",
       "    .dataframe thead th {\n",
       "        text-align: right;\n",
       "    }\n",
       "</style>\n",
       "<table border=\"1\" class=\"dataframe\">\n",
       "  <thead>\n",
       "    <tr style=\"text-align: right;\">\n",
       "      <th></th>\n",
       "      <th>id</th>\n",
       "      <th>document</th>\n",
       "      <th>label</th>\n",
       "      <th>document_1</th>\n",
       "    </tr>\n",
       "  </thead>\n",
       "  <tbody>\n",
       "    <tr>\n",
       "      <th>0</th>\n",
       "      <td>8112052</td>\n",
       "      <td>어릴때보고 지금다시봐도 재밌어요ㅋㅋ</td>\n",
       "      <td>1</td>\n",
       "      <td>어릴때보고 지금다시봐도 재밌어요</td>\n",
       "    </tr>\n",
       "    <tr>\n",
       "      <th>1</th>\n",
       "      <td>8132799</td>\n",
       "      <td>디자인을 배우는 학생으로, 외국디자이너와 그들이 일군 전통을 통해 발전해가는 문화산...</td>\n",
       "      <td>1</td>\n",
       "      <td>디자인을 배우는 학생으로 외국디자이너와 그들이 일군 전통을 통해 발전해가는 문화산업...</td>\n",
       "    </tr>\n",
       "    <tr>\n",
       "      <th>2</th>\n",
       "      <td>4655635</td>\n",
       "      <td>폴리스스토리 시리즈는 1부터 뉴까지 버릴께 하나도 없음.. 최고.</td>\n",
       "      <td>1</td>\n",
       "      <td>폴리스스토리 시리즈는 부터 뉴까지 버릴께 하나도 없음 최고</td>\n",
       "    </tr>\n",
       "    <tr>\n",
       "      <th>3</th>\n",
       "      <td>9251303</td>\n",
       "      <td>와.. 연기가 진짜 개쩔구나.. 지루할거라고 생각했는데 몰입해서 봤다.. 그래 이런...</td>\n",
       "      <td>1</td>\n",
       "      <td>와 연기가 진짜 개쩔구나 지루할거라고 생각했는데 몰입해서 봤다 그래 이런게 진짜 영화지</td>\n",
       "    </tr>\n",
       "    <tr>\n",
       "      <th>4</th>\n",
       "      <td>10067386</td>\n",
       "      <td>안개 자욱한 밤하늘에 떠 있는 초승달 같은 영화.</td>\n",
       "      <td>1</td>\n",
       "      <td>안개 자욱한 밤하늘에 떠 있는 초승달 같은 영화</td>\n",
       "    </tr>\n",
       "  </tbody>\n",
       "</table>\n",
       "</div>"
      ],
      "text/plain": [
       "         id                                           document  label  \\\n",
       "0   8112052                                어릴때보고 지금다시봐도 재밌어요ㅋㅋ      1   \n",
       "1   8132799  디자인을 배우는 학생으로, 외국디자이너와 그들이 일군 전통을 통해 발전해가는 문화산...      1   \n",
       "2   4655635               폴리스스토리 시리즈는 1부터 뉴까지 버릴께 하나도 없음.. 최고.      1   \n",
       "3   9251303  와.. 연기가 진짜 개쩔구나.. 지루할거라고 생각했는데 몰입해서 봤다.. 그래 이런...      1   \n",
       "4  10067386                        안개 자욱한 밤하늘에 떠 있는 초승달 같은 영화.      1   \n",
       "\n",
       "                                          document_1  \n",
       "0                                 어릴때보고 지금다시봐도 재밌어요   \n",
       "1  디자인을 배우는 학생으로 외국디자이너와 그들이 일군 전통을 통해 발전해가는 문화산업...  \n",
       "2                  폴리스스토리 시리즈는 부터 뉴까지 버릴께 하나도 없음 최고   \n",
       "3   와 연기가 진짜 개쩔구나 지루할거라고 생각했는데 몰입해서 봤다 그래 이런게 진짜 영화지  \n",
       "4                        안개 자욱한 밤하늘에 떠 있는 초승달 같은 영화   "
      ]
     },
     "execution_count": 3,
     "metadata": {},
     "output_type": "execute_result"
    }
   ],
   "source": [
    "import re\n",
    "\n",
    "p = re.compile(r'^[\\s]*$')\n",
    "df = df.dropna()\n",
    "df['document_1'] = (df['document'].copy()\n",
    "                    .map(lambda el: re.sub(r\"[^가-힣ㅏ-ㅣ\\s]\", \" \", el))\n",
    "                    .map(lambda el: re.sub(r'[\\s]+', \" \", el))\n",
    "                   )\n",
    "df['document_2'] = df['document_1'].copy().map(\n",
    "    lambda el: True if p.search(el) == None else False\n",
    ")\n",
    "df = df[df['document_2']].drop(columns=['document_2'])\n",
    "print(f'The shape of dataframe: {df.shape}')\n",
    "df.head()"
   ]
  },
  {
   "cell_type": "markdown",
   "metadata": {},
   "source": [
    "2100개의 리뷰가 제거되었다. 형태소 분석을 위한 함수를 작성하고 리뷰에 적용하여 morphemes 열에 저장하였다."
   ]
  },
  {
   "cell_type": "code",
   "execution_count": 4,
   "metadata": {},
   "outputs": [
    {
     "data": {
      "text/html": [
       "<div>\n",
       "<style scoped>\n",
       "    .dataframe tbody tr th:only-of-type {\n",
       "        vertical-align: middle;\n",
       "    }\n",
       "\n",
       "    .dataframe tbody tr th {\n",
       "        vertical-align: top;\n",
       "    }\n",
       "\n",
       "    .dataframe thead th {\n",
       "        text-align: right;\n",
       "    }\n",
       "</style>\n",
       "<table border=\"1\" class=\"dataframe\">\n",
       "  <thead>\n",
       "    <tr style=\"text-align: right;\">\n",
       "      <th></th>\n",
       "      <th>id</th>\n",
       "      <th>document</th>\n",
       "      <th>label</th>\n",
       "      <th>document_1</th>\n",
       "      <th>morphemes</th>\n",
       "    </tr>\n",
       "  </thead>\n",
       "  <tbody>\n",
       "    <tr>\n",
       "      <th>0</th>\n",
       "      <td>8112052</td>\n",
       "      <td>어릴때보고 지금다시봐도 재밌어요ㅋㅋ</td>\n",
       "      <td>1</td>\n",
       "      <td>어릴때보고 지금다시봐도 재밌어요</td>\n",
       "      <td>[어리, ㄹ, 때, 보, 고, 지금다시, 보, 아도, 재밌, 어요]</td>\n",
       "    </tr>\n",
       "    <tr>\n",
       "      <th>1</th>\n",
       "      <td>8132799</td>\n",
       "      <td>디자인을 배우는 학생으로, 외국디자이너와 그들이 일군 전통을 통해 발전해가는 문화산...</td>\n",
       "      <td>1</td>\n",
       "      <td>디자인을 배우는 학생으로 외국디자이너와 그들이 일군 전통을 통해 발전해가는 문화산업...</td>\n",
       "      <td>[디자인, 을, 배우, 는, 학생, 으로, 외국, 디자이, 너, 와, 그, 들, 이...</td>\n",
       "    </tr>\n",
       "    <tr>\n",
       "      <th>2</th>\n",
       "      <td>4655635</td>\n",
       "      <td>폴리스스토리 시리즈는 1부터 뉴까지 버릴께 하나도 없음.. 최고.</td>\n",
       "      <td>1</td>\n",
       "      <td>폴리스스토리 시리즈는 부터 뉴까지 버릴께 하나도 없음 최고</td>\n",
       "      <td>[폴리스스토리, 시리즈, 는, 부, 터, 뉴, 까지, 버리, ㄹ께, 하나, 도, 없...</td>\n",
       "    </tr>\n",
       "    <tr>\n",
       "      <th>3</th>\n",
       "      <td>9251303</td>\n",
       "      <td>와.. 연기가 진짜 개쩔구나.. 지루할거라고 생각했는데 몰입해서 봤다.. 그래 이런...</td>\n",
       "      <td>1</td>\n",
       "      <td>와 연기가 진짜 개쩔구나 지루할거라고 생각했는데 몰입해서 봤다 그래 이런게 진짜 영화지</td>\n",
       "      <td>[오, 아, 연기, 가, 진, 짜, 개, 쩔, 구나, 지루, 하, ㄹ, 거, 이, ...</td>\n",
       "    </tr>\n",
       "    <tr>\n",
       "      <th>4</th>\n",
       "      <td>10067386</td>\n",
       "      <td>안개 자욱한 밤하늘에 떠 있는 초승달 같은 영화.</td>\n",
       "      <td>1</td>\n",
       "      <td>안개 자욱한 밤하늘에 떠 있는 초승달 같은 영화</td>\n",
       "      <td>[안개, 자욱, 하, ㄴ, 밤하늘, 에, 뜨, 어, 있, 는, 초승달, 같, 은, 영화]</td>\n",
       "    </tr>\n",
       "  </tbody>\n",
       "</table>\n",
       "</div>"
      ],
      "text/plain": [
       "         id                                           document  label  \\\n",
       "0   8112052                                어릴때보고 지금다시봐도 재밌어요ㅋㅋ      1   \n",
       "1   8132799  디자인을 배우는 학생으로, 외국디자이너와 그들이 일군 전통을 통해 발전해가는 문화산...      1   \n",
       "2   4655635               폴리스스토리 시리즈는 1부터 뉴까지 버릴께 하나도 없음.. 최고.      1   \n",
       "3   9251303  와.. 연기가 진짜 개쩔구나.. 지루할거라고 생각했는데 몰입해서 봤다.. 그래 이런...      1   \n",
       "4  10067386                        안개 자욱한 밤하늘에 떠 있는 초승달 같은 영화.      1   \n",
       "\n",
       "                                          document_1  \\\n",
       "0                                 어릴때보고 지금다시봐도 재밌어요    \n",
       "1  디자인을 배우는 학생으로 외국디자이너와 그들이 일군 전통을 통해 발전해가는 문화산업...   \n",
       "2                  폴리스스토리 시리즈는 부터 뉴까지 버릴께 하나도 없음 최고    \n",
       "3   와 연기가 진짜 개쩔구나 지루할거라고 생각했는데 몰입해서 봤다 그래 이런게 진짜 영화지   \n",
       "4                        안개 자욱한 밤하늘에 떠 있는 초승달 같은 영화    \n",
       "\n",
       "                                           morphemes  \n",
       "0              [어리, ㄹ, 때, 보, 고, 지금다시, 보, 아도, 재밌, 어요]  \n",
       "1  [디자인, 을, 배우, 는, 학생, 으로, 외국, 디자이, 너, 와, 그, 들, 이...  \n",
       "2  [폴리스스토리, 시리즈, 는, 부, 터, 뉴, 까지, 버리, ㄹ께, 하나, 도, 없...  \n",
       "3  [오, 아, 연기, 가, 진, 짜, 개, 쩔, 구나, 지루, 하, ㄹ, 거, 이, ...  \n",
       "4  [안개, 자욱, 하, ㄴ, 밤하늘, 에, 뜨, 어, 있, 는, 초승달, 같, 은, 영화]  "
      ]
     },
     "execution_count": 4,
     "metadata": {},
     "output_type": "execute_result"
    }
   ],
   "source": [
    "from khaiii import KhaiiiApi\n",
    "\n",
    "api = KhaiiiApi()\n",
    "\n",
    "def get_morphemes(review):\n",
    "    morphemes = [w for w in api.analyze(review)]\n",
    "    morphemes = [m.lex for w in morphemes for m in w.morphs]\n",
    "    return list(morphemes)\n",
    "\n",
    "df['morphemes'] = df['document_1'].apply(get_morphemes)\n",
    "df.head()"
   ]
  },
  {
   "cell_type": "code",
   "execution_count": 5,
   "metadata": {},
   "outputs": [
    {
     "name": "stdout",
     "output_type": "stream",
     "text": [
      "The length of morphemes: 3530533\n"
     ]
    },
    {
     "data": {
      "text/plain": [
       "['어리', 'ㄹ', '때', '보', '고']"
      ]
     },
     "execution_count": 5,
     "metadata": {},
     "output_type": "execute_result"
    }
   ],
   "source": [
    "morphemes = [m for r in df['morphemes'] for m in r]\n",
    "morphemes = list(morphemes)\n",
    "print(f'The length of morphemes: {len(morphemes)}')\n",
    "morphemes[:5]"
   ]
  },
  {
   "cell_type": "markdown",
   "metadata": {},
   "source": [
    "약 20만개의 리뷰가 350만개의 형태소로 분석되었다. 각 리뷰는 평균적으로 형태소를 18개로 구성된다. 리뷰 길이의 중앙값은 27이었으므로 상당 수의 형태소는 길이 1 또는 2인 것을 알 수 있다. 형태소에 대하여 더 분석해 보자."
   ]
  },
  {
   "cell_type": "code",
   "execution_count": 6,
   "metadata": {},
   "outputs": [
    {
     "data": {
      "text/html": [
       "<div>\n",
       "<style scoped>\n",
       "    .dataframe tbody tr th:only-of-type {\n",
       "        vertical-align: middle;\n",
       "    }\n",
       "\n",
       "    .dataframe tbody tr th {\n",
       "        vertical-align: top;\n",
       "    }\n",
       "\n",
       "    .dataframe thead th {\n",
       "        text-align: right;\n",
       "    }\n",
       "</style>\n",
       "<table border=\"1\" class=\"dataframe\">\n",
       "  <thead>\n",
       "    <tr style=\"text-align: right;\">\n",
       "      <th></th>\n",
       "      <th>index</th>\n",
       "      <th>morpheme</th>\n",
       "      <th>n</th>\n",
       "    </tr>\n",
       "  </thead>\n",
       "  <tbody>\n",
       "    <tr>\n",
       "      <th>0</th>\n",
       "      <td>1</td>\n",
       "      <td>이</td>\n",
       "      <td>154942</td>\n",
       "    </tr>\n",
       "    <tr>\n",
       "      <th>1</th>\n",
       "      <td>2</td>\n",
       "      <td>하</td>\n",
       "      <td>139855</td>\n",
       "    </tr>\n",
       "    <tr>\n",
       "      <th>2</th>\n",
       "      <td>3</td>\n",
       "      <td>ㄴ</td>\n",
       "      <td>99839</td>\n",
       "    </tr>\n",
       "    <tr>\n",
       "      <th>3</th>\n",
       "      <td>4</td>\n",
       "      <td>는</td>\n",
       "      <td>89213</td>\n",
       "    </tr>\n",
       "    <tr>\n",
       "      <th>4</th>\n",
       "      <td>5</td>\n",
       "      <td>다</td>\n",
       "      <td>75460</td>\n",
       "    </tr>\n",
       "  </tbody>\n",
       "</table>\n",
       "</div>"
      ],
      "text/plain": [
       "   index morpheme       n\n",
       "0      1        이  154942\n",
       "1      2        하  139855\n",
       "2      3        ㄴ   99839\n",
       "3      4        는   89213\n",
       "4      5        다   75460"
      ]
     },
     "execution_count": 6,
     "metadata": {},
     "output_type": "execute_result"
    }
   ],
   "source": [
    "from collections import Counter\n",
    "\n",
    "morphemes_freq = Counter(morphemes)\n",
    "morphemes_freq = list(zip(*[(k, v) for (k, v) in morphemes_freq.items()]))\n",
    "morphemes_freq = pd.DataFrame({'morpheme': morphemes_freq[0], 'n': morphemes_freq[1]})\n",
    "morphemes_freq = morphemes_freq.sort_values(by='n', ascending=False)\n",
    "morphemes_freq = morphemes_freq.reset_index(drop=True)\n",
    "morphemes_freq = morphemes_freq.reset_index()\n",
    "morphemes_freq['index'] = morphemes_freq['index'] + 1\n",
    "morphemes_freq.head()"
   ]
  },
  {
   "cell_type": "code",
   "execution_count": 7,
   "metadata": {},
   "outputs": [
    {
     "data": {
      "text/plain": [
       "array(['이', '하', 'ㄴ', '는', '다', '영화', '고', '보', '의', '가', '도', '에', '은',\n",
       "       '을', '었', '지', 'ㄹ', '어', '게', '들', '았', '나', '있', '것', '를', '없',\n",
       "       '아', '되', '만', '좋', '는데', '기', '로', '적', '주', '너무', '였', '여', '으로',\n",
       "       '음', '정말', '네', '어요', '같', '지만', 'ㄴ다', 'ㅁ', '에서', '않', '안', '수',\n",
       "       '말', '면', '아니', '과', '점', '거', '네요', '시', '만들', '그', '뭐', '연기',\n",
       "       '재미있', '평점', '던', '진짜', '재밌', '나오', '잘', '이런', '겠', '라', 'ㅠ',\n",
       "       '습니다', '듯', 'ㅂ니다', '이것', '생각', '싶', '왜', '와', '최고', '요', '더', '내',\n",
       "       '어서', '스토리', '아서', '사람', '까지', '감동', '오', '한', '보다', '재미', 'ㅡ',\n",
       "       '배우', '때', '지루'], dtype=object)"
      ]
     },
     "execution_count": 7,
     "metadata": {},
     "output_type": "execute_result"
    }
   ],
   "source": [
    "morphemes_freq.morpheme[:100].values"
   ]
  },
  {
   "cell_type": "markdown",
   "metadata": {},
   "source": [
    "영화 리뷰인 만큼 영화라는 낱말이 많이 사용되고 있어 사실상 의미가 없는 불용어로 처리해도 되겠다. 기분을 나타내는 재미는 재미, 재밌, 재미있 등의 별개의 형태소 khaiii가 분석한 것을 알 수 있다. 과도하게 많이 사용한 형태소를 찾아 보자."
   ]
  },
  {
   "cell_type": "code",
   "execution_count": 8,
   "metadata": {},
   "outputs": [
    {
     "data": {
      "image/png": "[encoded data removed]",
      "text/plain": [
       "<Figure size 720x576 with 1 Axes>"
      ]
     },
     "metadata": {
      "needs_background": "light"
     },
     "output_type": "display_data"
    }
   ],
   "source": [
    "# import plotly.express as px\n",
    "\n",
    "# fig = px.line(morph_freq.iloc[:200], x='index', y='n', log_y=True)\n",
    "# fig.show()\n",
    "\n",
    "fig, ax = plt.subplots(figsize=(10, 8))\n",
    "# ax.set(yscale='log')\n",
    "sns.lineplot(x='index', y='n', data=morphemes_freq.iloc[:200], ax=ax);"
   ]
  },
  {
   "cell_type": "markdown",
   "metadata": {},
   "source": [
    "기울기가 급격하게 변하는 15000회 이상 사용된 다음 형태소는 불용어로 지정하겠다."
   ]
  },
  {
   "cell_type": "code",
   "execution_count": 9,
   "metadata": {},
   "outputs": [
    {
     "data": {
      "text/plain": [
       "'의 다 하 만 를 아 어 고 보 은 있 을 좋 았 는 도 게 영화 들 가 이 었 없 나 는데 되 지 ㄴ ㄹ 에 것'"
      ]
     },
     "execution_count": 9,
     "metadata": {},
     "output_type": "execute_result"
    }
   ],
   "source": [
    "stop_words = morphemes_freq.loc[morphemes_freq.n > 15000, 'morpheme'].values\n",
    "stop_words = set(stop_words)\n",
    "' '.join(stop_words)"
   ]
  },
  {
   "cell_type": "code",
   "execution_count": 10,
   "metadata": {},
   "outputs": [
    {
     "data": {
      "text/plain": [
       "3      35970\n",
       "2      32527\n",
       "4      19306\n",
       "5       7683\n",
       "6       2387\n",
       "1       2272\n",
       "7        848\n",
       "8        341\n",
       "9        139\n",
       "10        61\n",
       "11        31\n",
       "12        18\n",
       "13         7\n",
       "14         4\n",
       "17         4\n",
       "16         3\n",
       "15         3\n",
       "21         3\n",
       "24         3\n",
       "18         3\n",
       "28         2\n",
       "30         2\n",
       "22         2\n",
       "31         2\n",
       "129        1\n",
       "36         1\n",
       "35         1\n",
       "39         1\n",
       "133        1\n",
       "29         1\n",
       "26         1\n",
       "23         1\n",
       "20         1\n",
       "47         1\n",
       "Name: morpheme, dtype: int64"
      ]
     },
     "execution_count": 10,
     "metadata": {},
     "output_type": "execute_result"
    }
   ],
   "source": [
    "morphemes_freq['morpheme'].apply(len).value_counts()"
   ]
  },
  {
   "cell_type": "markdown",
   "metadata": {},
   "source": [
    "대부분의 형태소는 2, 3, 4글자인 것을 알 수 있다. 100자가 넘는 형태소도 존재하는데 다음과 같은 것이며 토근화를 거치며 제거될 것이다."
   ]
  },
  {
   "cell_type": "code",
   "execution_count": 11,
   "metadata": {},
   "outputs": [
    {
     "data": {
      "text/html": [
       "<div>\n",
       "<style scoped>\n",
       "    .dataframe tbody tr th:only-of-type {\n",
       "        vertical-align: middle;\n",
       "    }\n",
       "\n",
       "    .dataframe tbody tr th {\n",
       "        vertical-align: top;\n",
       "    }\n",
       "\n",
       "    .dataframe thead th {\n",
       "        text-align: right;\n",
       "    }\n",
       "</style>\n",
       "<table border=\"1\" class=\"dataframe\">\n",
       "  <thead>\n",
       "    <tr style=\"text-align: right;\">\n",
       "      <th></th>\n",
       "      <th>index</th>\n",
       "      <th>morpheme</th>\n",
       "      <th>n</th>\n",
       "    </tr>\n",
       "  </thead>\n",
       "  <tbody>\n",
       "    <tr>\n",
       "      <th>40688</th>\n",
       "      <td>40689</td>\n",
       "      <td>ㅠㅠㅠㅠㅠㅠㅠㅠㅠㅠㅠㅠㅠㅠㅠㅠㅠㅠㅠㅠㅠㅠㅠㅠㅠㅠㅠㅠㅠㅠㅠㅠㅠㅠㅠㅠㅠㅠㅠㅠㅠㅠㅠㅠㅠㅠ...</td>\n",
       "      <td>1</td>\n",
       "    </tr>\n",
       "    <tr>\n",
       "      <th>93706</th>\n",
       "      <td>93707</td>\n",
       "      <td>의리의리의리의리의리의리의리의리의리의리의리의리의리의리의리의리의리의리의리의리의리의리의리...</td>\n",
       "      <td>1</td>\n",
       "    </tr>\n",
       "  </tbody>\n",
       "</table>\n",
       "</div>"
      ],
      "text/plain": [
       "       index                                           morpheme  n\n",
       "40688  40689  ㅠㅠㅠㅠㅠㅠㅠㅠㅠㅠㅠㅠㅠㅠㅠㅠㅠㅠㅠㅠㅠㅠㅠㅠㅠㅠㅠㅠㅠㅠㅠㅠㅠㅠㅠㅠㅠㅠㅠㅠㅠㅠㅠㅠㅠㅠ...  1\n",
       "93706  93707  의리의리의리의리의리의리의리의리의리의리의리의리의리의리의리의리의리의리의리의리의리의리의리...  1"
      ]
     },
     "execution_count": 11,
     "metadata": {},
     "output_type": "execute_result"
    }
   ],
   "source": [
    "morphemes_freq[morphemes_freq['morpheme'].apply(len) > 100]"
   ]
  },
  {
   "cell_type": "markdown",
   "metadata": {},
   "source": [
    "수동으로 불용어를 형태소 사전에서 제거하겠다."
   ]
  },
  {
   "cell_type": "code",
   "execution_count": 12,
   "metadata": {},
   "outputs": [
    {
     "data": {
      "text/plain": [
       "101600"
      ]
     },
     "execution_count": 12,
     "metadata": {},
     "output_type": "execute_result"
    }
   ],
   "source": [
    "morphemes = [m for m in morphemes if m not in stop_words]\n",
    "morphemes = [(k, v) for (v, k) in enumerate(morphemes)]\n",
    "morphemes = dict(morphemes)\n",
    "len(morphemes)"
   ]
  },
  {
   "cell_type": "markdown",
   "metadata": {},
   "source": [
    "이렇게 얻어진 10만개의 형태소를 이용하여 감성 분석을 진행해 보자."
   ]
  },
  {
   "cell_type": "markdown",
   "metadata": {},
   "source": [
    "## 토큰화와 훈련·검정셋 준비\n",
    "\n",
    "우선 불용어를 제거하고, 이 과정에서 길이가 0이된 리뷰를 제거한다."
   ]
  },
  {
   "cell_type": "code",
   "execution_count": 13,
   "metadata": {},
   "outputs": [
    {
     "data": {
      "text/plain": [
       "(197640, 7)"
      ]
     },
     "execution_count": 13,
     "metadata": {},
     "output_type": "execute_result"
    }
   ],
   "source": [
    "df['morphemes_2'] = df['morphemes'].map(lambda el: [m for m in el if m not in stop_words])\n",
    "df['morphemes_2_len'] = df['morphemes_2'].apply(len)\n",
    "df = df[df['morphemes_2_len'] > 0]\n",
    "df.shape"
   ]
  },
  {
   "cell_type": "code",
   "execution_count": 14,
   "metadata": {},
   "outputs": [
    {
     "data": {
      "text/html": [
       "<div>\n",
       "<style scoped>\n",
       "    .dataframe tbody tr th:only-of-type {\n",
       "        vertical-align: middle;\n",
       "    }\n",
       "\n",
       "    .dataframe tbody tr th {\n",
       "        vertical-align: top;\n",
       "    }\n",
       "\n",
       "    .dataframe thead th {\n",
       "        text-align: right;\n",
       "    }\n",
       "</style>\n",
       "<table border=\"1\" class=\"dataframe\">\n",
       "  <thead>\n",
       "    <tr style=\"text-align: right;\">\n",
       "      <th></th>\n",
       "      <th>id</th>\n",
       "      <th>document</th>\n",
       "      <th>label</th>\n",
       "      <th>document_1</th>\n",
       "      <th>morphemes</th>\n",
       "    </tr>\n",
       "  </thead>\n",
       "  <tbody>\n",
       "    <tr>\n",
       "      <th>0</th>\n",
       "      <td>8112052</td>\n",
       "      <td>어릴때보고 지금다시봐도 재밌어요ㅋㅋ</td>\n",
       "      <td>1</td>\n",
       "      <td>어릴때보고 지금다시봐도 재밌어요</td>\n",
       "      <td>[어리, 때, 지금다시, 아도, 재밌, 어요]</td>\n",
       "    </tr>\n",
       "    <tr>\n",
       "      <th>1</th>\n",
       "      <td>8132799</td>\n",
       "      <td>디자인을 배우는 학생으로, 외국디자이너와 그들이 일군 전통을 통해 발전해가는 문화산...</td>\n",
       "      <td>1</td>\n",
       "      <td>디자인을 배우는 학생으로 외국디자이너와 그들이 일군 전통을 통해 발전해가는 문화산업...</td>\n",
       "      <td>[디자인, 배우, 학생, 으로, 외국, 디자이, 너, 와, 그, 일, 군, 전통, ...</td>\n",
       "    </tr>\n",
       "    <tr>\n",
       "      <th>2</th>\n",
       "      <td>4655635</td>\n",
       "      <td>폴리스스토리 시리즈는 1부터 뉴까지 버릴께 하나도 없음.. 최고.</td>\n",
       "      <td>1</td>\n",
       "      <td>폴리스스토리 시리즈는 부터 뉴까지 버릴께 하나도 없음 최고</td>\n",
       "      <td>[폴리스스토리, 시리즈, 부, 터, 뉴, 까지, 버리, ㄹ께, 하나, 음, 최고]</td>\n",
       "    </tr>\n",
       "    <tr>\n",
       "      <th>3</th>\n",
       "      <td>9251303</td>\n",
       "      <td>와.. 연기가 진짜 개쩔구나.. 지루할거라고 생각했는데 몰입해서 봤다.. 그래 이런...</td>\n",
       "      <td>1</td>\n",
       "      <td>와 연기가 진짜 개쩔구나 지루할거라고 생각했는데 몰입해서 봤다 그래 이런게 진짜 영화지</td>\n",
       "      <td>[오, 연기, 진, 짜, 개, 쩔, 구나, 지루, 거, 라고, 생각, 였, 몰입, ...</td>\n",
       "    </tr>\n",
       "    <tr>\n",
       "      <th>4</th>\n",
       "      <td>10067386</td>\n",
       "      <td>안개 자욱한 밤하늘에 떠 있는 초승달 같은 영화.</td>\n",
       "      <td>1</td>\n",
       "      <td>안개 자욱한 밤하늘에 떠 있는 초승달 같은 영화</td>\n",
       "      <td>[안개, 자욱, 밤하늘, 뜨, 초승달, 같]</td>\n",
       "    </tr>\n",
       "  </tbody>\n",
       "</table>\n",
       "</div>"
      ],
      "text/plain": [
       "         id                                           document  label  \\\n",
       "0   8112052                                어릴때보고 지금다시봐도 재밌어요ㅋㅋ      1   \n",
       "1   8132799  디자인을 배우는 학생으로, 외국디자이너와 그들이 일군 전통을 통해 발전해가는 문화산...      1   \n",
       "2   4655635               폴리스스토리 시리즈는 1부터 뉴까지 버릴께 하나도 없음.. 최고.      1   \n",
       "3   9251303  와.. 연기가 진짜 개쩔구나.. 지루할거라고 생각했는데 몰입해서 봤다.. 그래 이런...      1   \n",
       "4  10067386                        안개 자욱한 밤하늘에 떠 있는 초승달 같은 영화.      1   \n",
       "\n",
       "                                          document_1  \\\n",
       "0                                 어릴때보고 지금다시봐도 재밌어요    \n",
       "1  디자인을 배우는 학생으로 외국디자이너와 그들이 일군 전통을 통해 발전해가는 문화산업...   \n",
       "2                  폴리스스토리 시리즈는 부터 뉴까지 버릴께 하나도 없음 최고    \n",
       "3   와 연기가 진짜 개쩔구나 지루할거라고 생각했는데 몰입해서 봤다 그래 이런게 진짜 영화지   \n",
       "4                        안개 자욱한 밤하늘에 떠 있는 초승달 같은 영화    \n",
       "\n",
       "                                           morphemes  \n",
       "0                          [어리, 때, 지금다시, 아도, 재밌, 어요]  \n",
       "1  [디자인, 배우, 학생, 으로, 외국, 디자이, 너, 와, 그, 일, 군, 전통, ...  \n",
       "2      [폴리스스토리, 시리즈, 부, 터, 뉴, 까지, 버리, ㄹ께, 하나, 음, 최고]  \n",
       "3  [오, 연기, 진, 짜, 개, 쩔, 구나, 지루, 거, 라고, 생각, 였, 몰입, ...  \n",
       "4                           [안개, 자욱, 밤하늘, 뜨, 초승달, 같]  "
      ]
     },
     "execution_count": 14,
     "metadata": {},
     "output_type": "execute_result"
    }
   ],
   "source": [
    "df = (df.drop(columns=['morphemes', 'morphemes_2_len'])\n",
    "      .rename(columns={'morphemes_2': 'morphemes'}))\n",
    "df.head()"
   ]
  },
  {
   "cell_type": "code",
   "execution_count": 15,
   "metadata": {},
   "outputs": [
    {
     "data": {
      "image/png": "[encoded data removed]",
      "text/plain": [
       "<Figure size 720x576 with 1 Axes>"
      ]
     },
     "metadata": {
      "needs_background": "light"
     },
     "output_type": "display_data"
    }
   ],
   "source": [
    "fig, ax = plt.subplots(figsize=(10, 8))\n",
    "\n",
    "sns.histplot(x=df['morphemes'].apply(len), bins=30);"
   ]
  },
  {
   "cell_type": "markdown",
   "metadata": {},
   "source": [
    "리뷰의 형태소 분포는 위와 같다. 리뷰의 길이는 가변적이므로 동일한 길이의 입력으로 변환하겠다. 길이 40 이상은 절단하고 부족한 리뷰에 대해서는 패팅을 추가한다. 이를 위해서 keras의 pad_sequence 함수를 이용할 것이다."
   ]
  },
  {
   "cell_type": "code",
   "execution_count": 16,
   "metadata": {},
   "outputs": [],
   "source": [
    "from tensorflow.keras.preprocessing.text import Tokenizer\n",
    "from tensorflow.keras.preprocessing.sequence import pad_sequences"
   ]
  },
  {
   "cell_type": "code",
   "execution_count": 17,
   "metadata": {},
   "outputs": [
    {
     "data": {
      "text/plain": [
       "101600"
      ]
     },
     "execution_count": 17,
     "metadata": {},
     "output_type": "execute_result"
    }
   ],
   "source": [
    "maxlen = 40  # The number of morphemes per review\n",
    "max_words = 80000  # 80% morphemes\n",
    "\n",
    "tokenizer = Tokenizer(num_words=max_words)\n",
    "tokenizer.fit_on_texts(df.morphemes)\n",
    "sequences = tokenizer.texts_to_sequences(df.morphemes)\n",
    "len(tokenizer.word_index)"
   ]
  },
  {
   "cell_type": "code",
   "execution_count": 18,
   "metadata": {},
   "outputs": [
    {
     "data": {
      "text/plain": [
       "[('기', 1), ('로', 2), ('적', 3), ('주', 4), ('너무', 5)]"
      ]
     },
     "execution_count": 18,
     "metadata": {},
     "output_type": "execute_result"
    }
   ],
   "source": [
    "wi = [(k, v) for (k, v) in tokenizer.word_index.items()]\n",
    "wi = [kv for (_, kv) in zip(range(5), wi)]\n",
    "wi = list(wi)\n",
    "wi"
   ]
  },
  {
   "cell_type": "code",
   "execution_count": 19,
   "metadata": {},
   "outputs": [
    {
     "data": {
      "text/plain": [
       "((197640, 40), (197640,))"
      ]
     },
     "execution_count": 19,
     "metadata": {},
     "output_type": "execute_result"
    }
   ],
   "source": [
    "data = pad_sequences(sequences, maxlen=maxlen)\n",
    "labels = df.label.values\n",
    "data.shape, labels.shape"
   ]
  },
  {
   "cell_type": "code",
   "execution_count": 20,
   "metadata": {},
   "outputs": [],
   "source": [
    "from sklearn.model_selection import train_test_split\n",
    "\n",
    "X_train, X_test, y_train, y_test = train_test_split(\n",
    "    data, labels, test_size=0.3, random_state=952)"
   ]
  },
  {
   "cell_type": "markdown",
   "metadata": {},
   "source": [
    "## 모델 1"
   ]
  },
  {
   "cell_type": "code",
   "execution_count": 21,
   "metadata": {},
   "outputs": [
    {
     "name": "stdout",
     "output_type": "stream",
     "text": [
      "Model: \"sequential\"\n",
      "_________________________________________________________________\n",
      "Layer (type)                 Output Shape              Param #   \n",
      "=================================================================\n",
      "embedding (Embedding)        (None, 40, 100)           8000000   \n",
      "_________________________________________________________________\n",
      "flatten (Flatten)            (None, 4000)              0         \n",
      "_________________________________________________________________\n",
      "dropout (Dropout)            (None, 4000)              0         \n",
      "_________________________________________________________________\n",
      "dense (Dense)                (None, 32)                128032    \n",
      "_________________________________________________________________\n",
      "dropout_1 (Dropout)          (None, 32)                0         \n",
      "_________________________________________________________________\n",
      "dense_1 (Dense)              (None, 1)                 33        \n",
      "=================================================================\n",
      "Total params: 8,128,065\n",
      "Trainable params: 8,128,065\n",
      "Non-trainable params: 0\n",
      "_________________________________________________________________\n"
     ]
    }
   ],
   "source": [
    "import tensorflow as tf\n",
    "from tensorflow.keras import models, layers\n",
    "\n",
    "embedding_dim = 100\n",
    "\n",
    "mod_1 = models.Sequential([\n",
    "    layers.Embedding(max_words, embedding_dim, input_length=maxlen),\n",
    "    layers.Flatten(),\n",
    "    layers.Dropout(0.5),\n",
    "    layers.Dense(32, activation='relu'),\n",
    "    layers.Dropout(0.5),\n",
    "    layers.Dense(1, activation='sigmoid')\n",
    "])\n",
    "mod_1.summary()"
   ]
  },
  {
   "cell_type": "code",
   "execution_count": 22,
   "metadata": {},
   "outputs": [
    {
     "name": "stdout",
     "output_type": "stream",
     "text": [
      "Epoch 1/10\n",
      "217/217 [==============================] - 5s 19ms/step - loss: 0.5980 - accuracy: 0.6558 - val_loss: 0.4060 - val_accuracy: 0.8125\n",
      "Epoch 2/10\n",
      "217/217 [==============================] - 4s 16ms/step - loss: 0.3921 - accuracy: 0.8288 - val_loss: 0.3911 - val_accuracy: 0.8215\n",
      "Epoch 3/10\n",
      "217/217 [==============================] - 4s 16ms/step - loss: 0.3617 - accuracy: 0.8464 - val_loss: 0.3780 - val_accuracy: 0.8319\n",
      "Epoch 4/10\n",
      "217/217 [==============================] - 4s 18ms/step - loss: 0.3349 - accuracy: 0.8599 - val_loss: 0.3825 - val_accuracy: 0.8312\n",
      "Epoch 5/10\n",
      "217/217 [==============================] - 4s 17ms/step - loss: 0.3166 - accuracy: 0.8697 - val_loss: 0.3928 - val_accuracy: 0.8286\n"
     ]
    }
   ],
   "source": [
    "mod_1.compile(\n",
    "    optimizer='rmsprop',\n",
    "    loss='binary_crossentropy',\n",
    "    metrics=['accuracy']\n",
    ")\n",
    "early_stopping_cb = tf.keras.callbacks.EarlyStopping(monitor='val_accuracy', min_delta=0.0001, patience=2)\n",
    "history = mod_1.fit(\n",
    "    X_train, y_train,\n",
    "    epochs=10,\n",
    "    batch_size=512,\n",
    "    validation_split=0.2,\n",
    "    callbacks=[early_stopping_cb]\n",
    ")"
   ]
  },
  {
   "cell_type": "code",
   "execution_count": 23,
   "metadata": {},
   "outputs": [
    {
     "name": "stdout",
     "output_type": "stream",
     "text": [
      "1853/1853 [==============================] - 2s 968us/step - loss: 0.3906 - accuracy: 0.8293\n"
     ]
    },
    {
     "data": {
      "text/plain": [
       "[0.3905869126319885, 0.8293361663818359]"
      ]
     },
     "execution_count": 23,
     "metadata": {},
     "output_type": "execute_result"
    }
   ],
   "source": [
    "results = mod_1.evaluate(X_test, y_test)\n",
    "results"
   ]
  },
  {
   "cell_type": "markdown",
   "metadata": {},
   "source": [
    "정확도 82.9%를 얻었다.\n",
    "\n",
    "# 모델 2: 합성곱 신경망\n",
    "\n",
    "전창욱 등의 자연어 처리[1]에서 모델을 가져왔다. 다만 maxlen이나 max_words는 다르게 설정하였다."
   ]
  },
  {
   "cell_type": "code",
   "execution_count": 24,
   "metadata": {},
   "outputs": [
    {
     "name": "stdout",
     "output_type": "stream",
     "text": [
      "Model: \"model\"\n",
      "__________________________________________________________________________________________________\n",
      "Layer (type)                    Output Shape         Param #     Connected to                     \n",
      "==================================================================================================\n",
      "input_1 (InputLayer)            [(None, 40)]         0                                            \n",
      "__________________________________________________________________________________________________\n",
      "embedding_1 (Embedding)         (None, 40, 128)      10240000    input_1[0][0]                    \n",
      "__________________________________________________________________________________________________\n",
      "dropout_2 (Dropout)             (None, 40, 128)      0           embedding_1[0][0]                \n",
      "__________________________________________________________________________________________________\n",
      "conv1d (Conv1D)                 (None, 38, 100)      38500       dropout_2[0][0]                  \n",
      "__________________________________________________________________________________________________\n",
      "conv1d_1 (Conv1D)               (None, 37, 100)      51300       dropout_2[0][0]                  \n",
      "__________________________________________________________________________________________________\n",
      "conv1d_2 (Conv1D)               (None, 36, 100)      64100       dropout_2[0][0]                  \n",
      "__________________________________________________________________________________________________\n",
      "global_max_pooling1d (GlobalMax (None, 100)          0           conv1d[0][0]                     \n",
      "__________________________________________________________________________________________________\n",
      "global_max_pooling1d_1 (GlobalM (None, 100)          0           conv1d_1[0][0]                   \n",
      "__________________________________________________________________________________________________\n",
      "global_max_pooling1d_2 (GlobalM (None, 100)          0           conv1d_2[0][0]                   \n",
      "__________________________________________________________________________________________________\n",
      "tf.concat (TFOpLambda)          (None, 300)          0           global_max_pooling1d[0][0]       \n",
      "                                                                 global_max_pooling1d_1[0][0]     \n",
      "                                                                 global_max_pooling1d_2[0][0]     \n",
      "__________________________________________________________________________________________________\n",
      "dense_2 (Dense)                 (None, 250)          75250       tf.concat[0][0]                  \n",
      "__________________________________________________________________________________________________\n",
      "dense_3 (Dense)                 (None, 1)            251         dense_2[0][0]                    \n",
      "==================================================================================================\n",
      "Total params: 10,469,401\n",
      "Trainable params: 10,469,401\n",
      "Non-trainable params: 0\n",
      "__________________________________________________________________________________________________\n"
     ]
    }
   ],
   "source": [
    "import tensorflow as tf\n",
    "from tensorflow.keras import models, layers\n",
    "from tensorflow.keras import Input\n",
    "from tensorflow.keras.constraints import max_norm\n",
    "\n",
    "maxlen = 40\n",
    "max_words = 80000\n",
    "embedding_dim = 128\n",
    "\n",
    "inp = Input(shape=(maxlen,))\n",
    "embedded_inp = layers.Embedding(max_words, embedding_dim, input_length=maxlen)(inp)\n",
    "embedded_inp = layers.Dropout(0.5)(embedded_inp)\n",
    "conv_3 = layers.Conv1D(100, 3, activation='relu', kernel_constraint=max_norm(3.0))(embedded_inp)\n",
    "conv_3 = layers.GlobalMaxPooling1D()(conv_3)\n",
    "conv_4 = layers.Conv1D(100, 4, activation='relu', kernel_constraint=max_norm(3.0))(embedded_inp)\n",
    "conv_4 = layers.GlobalMaxPooling1D()(conv_4)\n",
    "conv_5 = layers.Conv1D(100, 5, activation='relu', kernel_constraint=max_norm(3.0))(embedded_inp)\n",
    "conv_5 = layers.GlobalMaxPooling1D()(conv_5)\n",
    "out = tf.concat([conv_3, conv_4, conv_5], axis=-1)\n",
    "# out = layers.Dropout(0.5)(out)\n",
    "# out = layers.Dense(250, \"relu\")(out)\n",
    "out = layers.Dense(250, \"relu\", kernel_constraint=max_norm(3.0))(out)\n",
    "# out = layers.Dropout(0.5)(out)\n",
    "# out = layers.Dense(1, \"relu\")(out)\n",
    "out = layers.Dense(1, \"relu\", kernel_constraint=max_norm(3.0))(out)\n",
    "\n",
    "mod_2 = models.Model(inp, out)\n",
    "mod_2.summary()"
   ]
  },
  {
   "cell_type": "code",
   "execution_count": 25,
   "metadata": {},
   "outputs": [
    {
     "data": {
      "image/png": "[encoded data removed]",
      "text/plain": [
       "<IPython.core.display.Image object>"
      ]
     },
     "execution_count": 25,
     "metadata": {},
     "output_type": "execute_result"
    }
   ],
   "source": [
    "tf.keras.utils.plot_model(mod_2, show_shapes=True)"
   ]
  },
  {
   "cell_type": "code",
   "execution_count": 26,
   "metadata": {},
   "outputs": [
    {
     "name": "stdout",
     "output_type": "stream",
     "text": [
      "Epoch 1/10\n",
      "217/217 [==============================] - 10s 36ms/step - loss: 0.8143 - accuracy: 0.6626 - val_loss: 0.5413 - val_accuracy: 0.7874\n",
      "Epoch 2/10\n",
      "217/217 [==============================] - 8s 36ms/step - loss: 0.4931 - accuracy: 0.8087 - val_loss: 0.6397 - val_accuracy: 0.7467\n",
      "Epoch 3/10\n",
      "217/217 [==============================] - 8s 36ms/step - loss: 0.4788 - accuracy: 0.8198 - val_loss: 0.4737 - val_accuracy: 0.8172\n",
      "Epoch 4/10\n",
      "217/217 [==============================] - 8s 37ms/step - loss: 0.4582 - accuracy: 0.8346 - val_loss: 0.4968 - val_accuracy: 0.8169\n",
      "Epoch 5/10\n",
      "217/217 [==============================] - 8s 37ms/step - loss: 0.4499 - accuracy: 0.8460 - val_loss: 0.5240 - val_accuracy: 0.8102\n"
     ]
    }
   ],
   "source": [
    "mod_2.compile(\n",
    "    optimizer='rmsprop',\n",
    "    loss='binary_crossentropy',\n",
    "    metrics=['accuracy']\n",
    ")\n",
    "early_stopping_cb = tf.keras.callbacks.EarlyStopping(monitor='val_accuracy', min_delta=0.0001, patience=2)\n",
    "history = mod_2.fit(\n",
    "    X_train, y_train,\n",
    "    epochs=10,\n",
    "    batch_size=512,\n",
    "    validation_split=0.2,\n",
    "    callbacks=[early_stopping_cb]\n",
    ")"
   ]
  },
  {
   "cell_type": "code",
   "execution_count": 27,
   "metadata": {},
   "outputs": [
    {
     "name": "stdout",
     "output_type": "stream",
     "text": [
      "1853/1853 [==============================] - 3s 2ms/step - loss: 0.5296 - accuracy: 0.8124\n"
     ]
    },
    {
     "data": {
      "text/plain": [
       "[0.5295822620391846, 0.812386155128479]"
      ]
     },
     "execution_count": 27,
     "metadata": {},
     "output_type": "execute_result"
    }
   ],
   "source": [
    "results = mod_2.evaluate(X_test, y_test)\n",
    "results"
   ]
  },
  {
   "cell_type": "markdown",
   "metadata": {},
   "source": [
    "정확도 81.2%를 얻었다.\n",
    "\n",
    "## 맺으며\n",
    "\n",
    "* 한국어에 대한 형태소 분석, 토큰화, 이진 분류 모델을 구성\n",
    "* 이를 이용하여 네이버 영화 리뷰에 대한 감성 분류\n",
    "* khaiii 형태소 분석기로도 어느 정도의 성과를 얻음"
   ]
  }
 ],
 "metadata": {
  "kernelspec": {
   "display_name": "Python 3",
   "language": "python",
   "name": "python3"
  },
  "language_info": {
   "codemirror_mode": {
    "name": "ipython",
    "version": 3
   },
   "file_extension": ".py",
   "mimetype": "text/x-python",
   "name": "python",
   "nbconvert_exporter": "python",
   "pygments_lexer": "ipython3",
   "version": "3.8.5"
  }
 },
 "nbformat": 4,
 "nbformat_minor": 4
}
