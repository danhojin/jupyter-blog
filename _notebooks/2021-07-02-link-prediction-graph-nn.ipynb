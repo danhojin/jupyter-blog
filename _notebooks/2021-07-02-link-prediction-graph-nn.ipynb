{
 "cells": [
  {
   "cell_type": "markdown",
   "id": "563e3313",
   "metadata": {},
   "source": [
    "# \"노드 간 연결성 예측\"\n",
    "\n",
    "> \"그래프의 노드 연결성 예측 문제를 dgl 기본 예제로 이해한다.\"\n",
    "\n",
    "- toc: true\n",
    "- badges: true\n",
    "- author: 단호진\n",
    "- categories: [graph]"
   ]
  },
  {
   "cell_type": "markdown",
   "id": "aeb629f4",
   "metadata": {},
   "source": [
    "# 그래프 내 노드 연결성\n",
    "\n",
    "그래프의 노드 간 엣지 혹은 링크 예측은 여러 응용이 존재한다. 사회 연결망 또는 소셜 네트워크에서 친구를 추천하거나, 아이템 추천 시스템, 지식 그래프를 완결시키는데 링크 예측을 사용할 수 있다. dgl 패키지가 제공하는 [기본 예제](https://docs.dgl.ai/tutorials/blitz/4_link_predict.html)를 통하여 링크 예측 문제를 이해하고, 패키지의 기본 용례를 살펴보겠다. \n",
    "\n",
    "예제에 사용하는 Cora 데이타셋은 인용 네트워크로 [Kipf의 논문](https://arxiv.org/abs/1609.02907)을 참고하자."
   ]
  },
  {
   "cell_type": "code",
   "execution_count": 1,
   "id": "ae830b38",
   "metadata": {},
   "outputs": [
    {
     "name": "stderr",
     "output_type": "stream",
     "text": [
      "Using backend: pytorch\n"
     ]
    },
    {
     "name": "stdout",
     "output_type": "stream",
     "text": [
      "torch: 1.9.0+cu102\n",
      "dgl:   0.6.1\n",
      "\n",
      "  NumNodes: 2708\n",
      "  NumEdges: 10556\n",
      "  NumFeats: 1433\n",
      "  NumClasses: 7\n",
      "  NumTrainingSamples: 140\n",
      "  NumValidationSamples: 500\n",
      "  NumTestSamples: 1000\n",
      "Done loading data from cached files.\n"
     ]
    }
   ],
   "source": [
    "import dgl\n",
    "import torch\n",
    "import torch.nn as nn\n",
    "import torch.nn.functional as F\n",
    "import itertools\n",
    "import numpy as np\n",
    "import scipy.sparse as sp\n",
    "from scipy.special import comb\n",
    "\n",
    "print('torch: {}'.format(torch.__version__))\n",
    "print('dgl:   {}'.format(dgl.__version__))\n",
    "print()\n",
    "\n",
    "import dgl.data\n",
    "\n",
    "dataset = dgl.data.CoraGraphDataset()\n",
    "g = dataset[0]"
   ]
  },
  {
   "cell_type": "markdown",
   "id": "cd7cdbb1",
   "metadata": {},
   "source": [
    "Cora 데이타셋은 2708개의 노드와 10556 / 2 = 5278 개의 엣지가 있는 무향 그래프이다. 각 노드는 1433 차원의 특징 벡터로 표현되며, 7개 클래스로 레이블되어 있다. [그래프의 밀도](https://en.wikipedia.org/wiki/Dense_graph)는 0.144%이다. "
   ]
  },
  {
   "cell_type": "code",
   "execution_count": 2,
   "id": "99ec58c5",
   "metadata": {},
   "outputs": [
    {
     "name": "stdout",
     "output_type": "stream",
     "text": [
      "n choose k: 3665278\n",
      "positive examples: 5278\n",
      "negative examples: 3660000\n",
      "Graph density: 0.144%\n"
     ]
    }
   ],
   "source": [
    "nCk = int(comb(2708, 2))\n",
    "print(f'n choose k: {nCk}')\n",
    "print(f'positive examples: {5278}')\n",
    "print(f'negative examples: {nCk - 5278}')\n",
    "print('Graph density: {:.3%}'.format(5278 / nCk))"
   ]
  },
  {
   "cell_type": "code",
   "execution_count": 3,
   "id": "149d5806",
   "metadata": {},
   "outputs": [
    {
     "data": {
      "text/plain": [
       "[('feat',\n",
       "  tensor([[0., 0., 0.,  ..., 0., 0., 0.],\n",
       "          [0., 0., 0.,  ..., 0., 0., 0.],\n",
       "          [0., 0., 0.,  ..., 0., 0., 0.],\n",
       "          ...,\n",
       "          [0., 0., 0.,  ..., 0., 0., 0.],\n",
       "          [0., 0., 0.,  ..., 0., 0., 0.],\n",
       "          [0., 0., 0.,  ..., 0., 0., 0.]])),\n",
       " ('label', tensor([3, 4, 4,  ..., 3, 3, 3])),\n",
       " ('test_mask', tensor([False, False, False,  ...,  True,  True,  True])),\n",
       " ('train_mask', tensor([ True,  True,  True,  ..., False, False, False])),\n",
       " ('val_mask', tensor([False, False, False,  ..., False, False, False]))]"
      ]
     },
     "execution_count": 3,
     "metadata": {},
     "output_type": "execute_result"
    }
   ],
   "source": [
    "[(k, v) for (k, v) in g.ndata.items()]"
   ]
  },
  {
   "cell_type": "code",
   "execution_count": 4,
   "id": "d914424c",
   "metadata": {},
   "outputs": [
    {
     "data": {
      "text/plain": [
       "(tensor([   0,    0,    0,  ..., 2707, 2707, 2707]),\n",
       " tensor([ 633, 1862, 2582,  ...,  598, 1473, 2706]))"
      ]
     },
     "execution_count": 4,
     "metadata": {},
     "output_type": "execute_result"
    }
   ],
   "source": [
    "g.edges()"
   ]
  },
  {
   "cell_type": "markdown",
   "id": "cb65e988",
   "metadata": {},
   "source": [
    "## 가정\n",
    "\n",
    "임의로 두 노드 사이에 엣지가 있을 확률은 매우 낮다. 주어진 엣지를 positive 사례라고 부르자. 그리고 나머지 가능한 엣지에서 positive 사례를 찾을 가능성은 그래프 밀도 정도라 가정하자. positive example 수 만큼 추가로 사례를 추출하여 negative 사례라고 하자. negative 사례에 극소수는 실제로 엣지가 존재할 수 있지만 노이즈로 간주한다. positive/negative 사례로 나누고 분류 문제로 문제를 구성하여 링크 예측 문제를 해결하겠다."
   ]
  },
  {
   "cell_type": "markdown",
   "id": "b98201b1",
   "metadata": {},
   "source": [
    "### negative 사례 추출의 이해\n",
    "\n",
    "인접 행렬은 엣지의 유무를 확인할 수 있으므로 negative 사례를 추출하는데 사용할 수 있다."
   ]
  },
  {
   "cell_type": "code",
   "execution_count": 5,
   "id": "b936fd18",
   "metadata": {},
   "outputs": [],
   "source": [
    "import matplotlib.pyplot as plt\n",
    "import networkx as nx\n",
    "\n",
    "%matplotlib inline"
   ]
  },
  {
   "cell_type": "code",
   "execution_count": 6,
   "id": "1a1737e3",
   "metadata": {},
   "outputs": [
    {
     "data": {
      "text/plain": [
       "(6, 7)"
      ]
     },
     "execution_count": 6,
     "metadata": {},
     "output_type": "execute_result"
    }
   ],
   "source": [
    "u = np.array([1, 1, 2, 2, 5, 3, 4, 2, 5, 3, 5, 4, 4, 6])\n",
    "v = np.array([2, 5, 3, 5, 4, 4, 6, 1, 1, 2, 2, 5, 3, 4])\n",
    "\n",
    "G = nx.Graph()\n",
    "G.add_edges_from(np.c_[u, v])\n",
    "G.number_of_nodes(), G.number_of_edges()"
   ]
  },
  {
   "cell_type": "code",
   "execution_count": 7,
   "id": "91a51fbc",
   "metadata": {},
   "outputs": [
    {
     "data": {
      "image/png": "[encoded data removed]",
      "text/plain": [
       "<Figure size 432x288 with 1 Axes>"
      ]
     },
     "metadata": {},
     "output_type": "display_data"
    }
   ],
   "source": [
    "nx.draw(G, with_labels=True, font_weight='bold')"
   ]
  },
  {
   "cell_type": "code",
   "execution_count": 8,
   "id": "4a1c2edc",
   "metadata": {},
   "outputs": [
    {
     "data": {
      "text/plain": [
       "matrix([[0., 1., 0., 0., 1., 0.],\n",
       "        [1., 0., 1., 0., 1., 0.],\n",
       "        [0., 1., 0., 1., 0., 0.],\n",
       "        [0., 0., 1., 0., 1., 1.],\n",
       "        [1., 1., 0., 1., 0., 0.],\n",
       "        [0., 0., 0., 1., 0., 0.]])"
      ]
     },
     "execution_count": 8,
     "metadata": {},
     "output_type": "execute_result"
    }
   ],
   "source": [
    "adj = sp.coo_matrix((np.ones(len(u)), (u - 1, v - 1)))\n",
    "adj.todense()"
   ]
  },
  {
   "cell_type": "code",
   "execution_count": 9,
   "id": "326fbc18",
   "metadata": {},
   "outputs": [
    {
     "data": {
      "text/plain": [
       "matrix([[0., 0., 1., 1., 0., 1.],\n",
       "        [0., 0., 0., 1., 0., 1.],\n",
       "        [1., 0., 0., 0., 1., 1.],\n",
       "        [1., 1., 0., 0., 0., 0.],\n",
       "        [0., 0., 1., 0., 0., 1.],\n",
       "        [1., 1., 1., 0., 1., 0.]])"
      ]
     },
     "execution_count": 9,
     "metadata": {},
     "output_type": "execute_result"
    }
   ],
   "source": [
    "adj_neg = 1 - adj.todense() - np.eye(6)\n",
    "adj_neg"
   ]
  },
  {
   "cell_type": "code",
   "execution_count": 10,
   "id": "5ae5e526",
   "metadata": {},
   "outputs": [
    {
     "data": {
      "text/plain": [
       "(array([0, 0, 0, 1, 1, 2, 2, 2, 3, 3, 4, 4, 5, 5, 5, 5]),\n",
       " array([2, 3, 5, 3, 5, 0, 4, 5, 0, 1, 2, 5, 0, 1, 2, 4]))"
      ]
     },
     "execution_count": 10,
     "metadata": {},
     "output_type": "execute_result"
    }
   ],
   "source": [
    "np.where(adj_neg != 0)"
   ]
  },
  {
   "cell_type": "markdown",
   "id": "2dcf0578",
   "metadata": {},
   "source": [
    "### negative 사례 추출과 훈련 및 검정 데이타 준비\n",
    "\n",
    "양방향 엣지를 가지고 있으므로 검정 데이타가 누구 되지 않도록 주의해서 분할하였다. 각 노드의 특징 평가를 위하여 tr_g, 엣지 점수 평가를 위하여 tr_p_g, te_p_g, tr_n_g, te_n_g 그래프를 준비하였다. "
   ]
  },
  {
   "cell_type": "code",
   "execution_count": 11,
   "id": "03eefe77",
   "metadata": {},
   "outputs": [
    {
     "data": {
      "text/plain": [
       "(Graph(num_nodes=2708, num_edges=8444,\n",
       "       ndata_schemes={}\n",
       "       edata_schemes={}),\n",
       " Graph(num_nodes=2708, num_edges=2112,\n",
       "       ndata_schemes={}\n",
       "       edata_schemes={}))"
      ]
     },
     "execution_count": 11,
     "metadata": {},
     "output_type": "execute_result"
    }
   ],
   "source": [
    "u, v = g.edges()\n",
    "p_edges = np.c_[u.numpy(), v.numpy()]\n",
    "p_edges = np.r_[[e for e in p_edges if e[0] < e[1]]]\n",
    "num_edges = len(p_edges)\n",
    "num_train = int(num_edges * 0.8)\n",
    "np.random.shuffle(p_edges)\n",
    "tr_p_edges = p_edges[:num_train]\n",
    "tr_p_edges = np.r_[tr_p_edges, tr_p_edges[:, [1, 0]]]\n",
    "tr_p_g = dgl.graph((tr_p_edges[:, 0], tr_p_edges[:, 1]), num_nodes=g.number_of_nodes())\n",
    "\n",
    "te_p_edges = p_edges[num_train:]\n",
    "te_p_edges = np.r_[te_p_edges, te_p_edges[:, [1, 0]]]\n",
    "te_p_g = dgl.graph((te_p_edges[:, 0], te_p_edges[:, 1]), num_nodes=g.number_of_nodes())\n",
    "\n",
    "tr_p_g, te_p_g"
   ]
  },
  {
   "cell_type": "code",
   "execution_count": 12,
   "id": "48bd81d1",
   "metadata": {},
   "outputs": [
    {
     "data": {
      "text/plain": [
       "(2112, [1, 7, 8, 9, 11, 18, 23, 38, 40, 41])"
      ]
     },
     "execution_count": 12,
     "metadata": {},
     "output_type": "execute_result"
    }
   ],
   "source": [
    "te_p_edges_set = {tuple(e) for e in te_p_edges}\n",
    "\n",
    "eids = [k for (k, e) in enumerate(zip(u.numpy(), v.numpy())) if e in te_p_edges_set]\n",
    "len(eids), eids[:10]"
   ]
  },
  {
   "cell_type": "code",
   "execution_count": 13,
   "id": "641f8ae9",
   "metadata": {},
   "outputs": [
    {
     "data": {
      "text/plain": [
       "Graph(num_nodes=2708, num_edges=8444,\n",
       "      ndata_schemes={'feat': Scheme(shape=(1433,), dtype=torch.float32), 'label': Scheme(shape=(), dtype=torch.int64), 'test_mask': Scheme(shape=(), dtype=torch.bool), 'train_mask': Scheme(shape=(), dtype=torch.bool), 'val_mask': Scheme(shape=(), dtype=torch.bool)}\n",
       "      edata_schemes={})"
      ]
     },
     "execution_count": 13,
     "metadata": {},
     "output_type": "execute_result"
    }
   ],
   "source": [
    "tr_g = dgl.remove_edges(g, eids)\n",
    "tr_g"
   ]
  },
  {
   "cell_type": "code",
   "execution_count": 14,
   "id": "adeec0f6",
   "metadata": {},
   "outputs": [
    {
     "data": {
      "text/plain": [
       "(Graph(num_nodes=2708, num_edges=8444,\n",
       "       ndata_schemes={}\n",
       "       edata_schemes={}),\n",
       " Graph(num_nodes=2708, num_edges=2112,\n",
       "       ndata_schemes={}\n",
       "       edata_schemes={}))"
      ]
     },
     "execution_count": 14,
     "metadata": {},
     "output_type": "execute_result"
    }
   ],
   "source": [
    "# twice edges of negative graph\n",
    "# num_edges = num_edges * 2\n",
    "# num_train = num_train * 2\n",
    "\n",
    "adj = sp.coo_matrix((np.ones(g.number_of_edges()), (u.numpy(), v.numpy())))\n",
    "adj_neg = 1 - adj.todense() - np.eye(g.number_of_nodes())\n",
    "u_neg, v_neg = np.where(adj_neg != 0)\n",
    "\n",
    "n_edges = np.r_[[uv for uv in np.c_[u_neg, v_neg] if uv[0] < uv[1]]]\n",
    "np.random.shuffle(n_edges)\n",
    "tr_n_edges = n_edges[:num_train]\n",
    "tr_n_edges = np.r_[tr_n_edges, tr_n_edges[:, [1, 0]]]\n",
    "tr_n_g = dgl.graph((tr_n_edges[:, 0], tr_n_edges[:, 1]), num_nodes=g.number_of_nodes())\n",
    "\n",
    "te_n_edges = n_edges[num_train:num_edges]\n",
    "te_n_edges = np.r_[te_n_edges, te_n_edges[:, [1, 0]]]\n",
    "te_n_g = dgl.graph((te_n_edges[:, 0], te_n_edges[:, 1]), num_nodes=g.number_of_nodes())\n",
    "\n",
    "tr_n_g, te_n_g"
   ]
  },
  {
   "cell_type": "markdown",
   "id": "44b4baff",
   "metadata": {},
   "source": [
    "## GraphSAGE model\n",
    "\n",
    "링크를 예측 문제는 우리가 가진 그래프의 엣지 정보가 불완전하다는 것을 의미한다. 정확한 그래프 라플라스 행렬을 알 지 못하므로 GAGEConv 모델을 이용한다. SAGE는 Sample & Aggregate에서 나온 말이다."
   ]
  },
  {
   "cell_type": "code",
   "execution_count": 15,
   "id": "6aa99c3a",
   "metadata": {},
   "outputs": [],
   "source": [
    "from dgl.nn import SAGEConv\n",
    "\n",
    "\n",
    "class GraphSAGE(nn.Module):\n",
    "    def __init__(self, in_feats, h_feats):\n",
    "        super().__init__()\n",
    "        self.conv1 = SAGEConv(in_feats, h_feats, 'mean')\n",
    "        self.conv2 = SAGEConv(h_feats, h_feats, 'mean')\n",
    "        \n",
    "    def forward(self, g, in_feat):\n",
    "        h = F.relu(self.conv1(g, in_feat))\n",
    "        h = self.conv2(g, h)\n",
    "        return h"
   ]
  },
  {
   "cell_type": "markdown",
   "id": "7ad11c44",
   "metadata": {},
   "source": [
    "## EdgeScore model\n",
    "\n",
    "그래프에서 각 노드의 특징으로부터 엣지의 특성값을 도출하는 모델을 작성하였다."
   ]
  },
  {
   "cell_type": "code",
   "execution_count": 16,
   "id": "2efa3479",
   "metadata": {},
   "outputs": [],
   "source": [
    "class EdgeScore(nn.Module):  # original name: MLPPredictor\n",
    "    def __init__(self, h_feats):\n",
    "        super().__init__()\n",
    "        self.W1 = nn.Linear(h_feats * 2, h_feats)\n",
    "        self.W2 = nn.Linear(h_feats, 1)\n",
    "\n",
    "    def apply_edges(self, edges):\n",
    "        \"\"\"\n",
    "        Computes a scalar score for each edge of the given graph.\n",
    "\n",
    "        Parameters\n",
    "        ----------\n",
    "        edges :\n",
    "            Has three members ``src``, ``dst`` and ``data``, each of\n",
    "            which is a dictionary representing the features of the\n",
    "            source nodes, the destination nodes, and the edges\n",
    "            themselves.\n",
    "\n",
    "        Returns\n",
    "        -------\n",
    "        dict\n",
    "            A dictionary of new edge features.\n",
    "        \"\"\"\n",
    "        h = torch.cat([edges.src['h'], edges.dst['h']], 1)\n",
    "        return {'score': self.W2(F.relu(self.W1(h))).squeeze(1)}\n",
    "\n",
    "    def forward(self, g, h):\n",
    "        with g.local_scope():\n",
    "            g.ndata['h'] = h\n",
    "            g.apply_edges(self.apply_edges)\n",
    "            return g.edata['score']"
   ]
  },
  {
   "cell_type": "code",
   "execution_count": 17,
   "id": "b0c085ba",
   "metadata": {},
   "outputs": [],
   "source": [
    "def compute_loss(pos_score, neg_score):\n",
    "    scores = torch.cat([pos_score, neg_score])\n",
    "    labels = torch.cat([torch.ones(pos_score.shape[0]), torch.zeros(neg_score.shape[0])])\n",
    "    return F.binary_cross_entropy_with_logits(scores, labels)\n",
    "\n",
    "def compute_auc(pos_score, neg_score):\n",
    "    scores = torch.cat([pos_score, neg_score]).numpy()\n",
    "    labels = torch.cat(\n",
    "        [torch.ones(pos_score.shape[0]), torch.zeros(neg_score.shape[0])]).numpy()\n",
    "    return roc_auc_score(labels, scores)"
   ]
  },
  {
   "cell_type": "code",
   "execution_count": 18,
   "id": "1ecb5691",
   "metadata": {},
   "outputs": [
    {
     "name": "stdout",
     "output_type": "stream",
     "text": [
      "Epoch 005, loss: 0.693 va loss: 0.693\n",
      "Epoch 010, loss: 0.691 va loss: 0.693\n",
      "Epoch 015, loss: 0.689 va loss: 0.692\n",
      "Epoch 020, loss: 0.686 va loss: 0.691\n",
      "Epoch 025, loss: 0.680 va loss: 0.688\n",
      "Epoch 030, loss: 0.673 va loss: 0.685\n",
      "Epoch 035, loss: 0.662 va loss: 0.681\n",
      "Epoch 040, loss: 0.647 va loss: 0.676\n",
      "Epoch 045, loss: 0.629 va loss: 0.672\n",
      "Epoch 050, loss: 0.608 va loss: 0.671\n",
      "Epoch 055, loss: 0.586 va loss: 0.676\n",
      "Epoch 060, loss: 0.564 va loss: 0.690\n",
      "\n",
      "AUC 0.6191352444903581\n"
     ]
    }
   ],
   "source": [
    "node_feature_model = GraphSAGE(tr_g.ndata['feat'].shape[1], 32)\n",
    "edge_score_model = EdgeScore(32)\n",
    "\n",
    "optimizer = torch.optim.Adam(\n",
    "    itertools.chain(node_feature_model.parameters(), edge_score_model.parameters()), lr=0.001)\n",
    "\n",
    "# ----------- 4. training -------------------------------- #\n",
    "all_logits = []\n",
    "for epoch in range(1, 61):\n",
    "    # forward\n",
    "    h = node_feature_model(tr_g, tr_g.ndata['feat'])\n",
    "    pos_score = edge_score_model(tr_p_g, h)\n",
    "    neg_score = edge_score_model(tr_n_g, h)\n",
    "    loss = compute_loss(pos_score, neg_score)\n",
    "\n",
    "    # backward\n",
    "    optimizer.zero_grad()\n",
    "    loss.backward()\n",
    "    optimizer.step()\n",
    "\n",
    "    if epoch % 5 == 0:\n",
    "        with torch.no_grad():\n",
    "            pos_score = edge_score_model(te_p_g, h)\n",
    "            neg_score = edge_score_model(te_n_g, h)\n",
    "            va_loss = compute_loss(pos_score, neg_score)\n",
    "        print(f'Epoch {epoch:03d}, loss: {loss:.3f} va loss: {va_loss:.3f}')\n",
    "\n",
    "# ----------- 5. check results ------------------------ #\n",
    "print()\n",
    "\n",
    "from sklearn.metrics import roc_auc_score\n",
    "with torch.no_grad():\n",
    "    pos_score = edge_score_model(te_p_g, h)\n",
    "    neg_score = edge_score_model(te_n_g, h)\n",
    "    print('AUC', compute_auc(pos_score, neg_score))"
   ]
  },
  {
   "cell_type": "markdown",
   "id": "a9cc9067",
   "metadata": {},
   "source": [
    "## 마무리\n",
    "\n",
    "dgl 패키지를 기본 예제를 통하여 링크 예측 문제를 살펴보면서 dgl 패키지는 코드 가독성이 높다는 인상을 받았다. 즉, dgl 패키지를 처음 접해도 그래프에 대한 개념만 갖춘다면 내 생각을 코드로 구성하여 실험해 보기 쉽다는 뜻으로, 여러 응용을 시도해 보기 좋은 패키지이다. "
   ]
  }
 ],
 "metadata": {
  "kernelspec": {
   "display_name": "Python 3",
   "language": "python",
   "name": "python3"
  },
  "language_info": {
   "codemirror_mode": {
    "name": "ipython",
    "version": 3
   },
   "file_extension": ".py",
   "mimetype": "text/x-python",
   "name": "python",
   "nbconvert_exporter": "python",
   "pygments_lexer": "ipython3",
   "version": "3.8.10"
  }
 },
 "nbformat": 4,
 "nbformat_minor": 5
}
