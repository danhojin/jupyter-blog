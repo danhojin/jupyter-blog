{
 "cells": [
  {
   "cell_type": "markdown",
   "metadata": {},
   "source": [
    "# \"모분산 불편 추정량과 모 표준편차\"\n",
    "> \"모분산의 불편 추정량과 모 표준편차의 관계를 예제를 통하여 계산해 본다.\"\n",
    "\n",
    "- toc: false\n",
    "- badges: true\n",
    "- author: 단호진\n",
    "- categories: [statistics]"
   ]
  },
  {
   "cell_type": "markdown",
   "metadata": {},
   "source": [
    "수리통계학 연습 문제 4.2.10을 살피다 지금까지 별 의심 없이 써왔던 모분산의 불편 추청량 $S^2$을 다시 생각해보게 되었다. 모 표준편차의 분편 추정량을 $\\sqrt{S^2}$으로 볼 수 있냐는 문제이다. 모분산의 불편 추정량은 다음과 같다.\n",
    "\n",
    "$S^2 = \\frac{\\sum_{i=1}^{n} (X_i - \\bar X_n)^2}{n - 1}$\n",
    "\n",
    "$X_i \\sim N(\\mu, \\sigma^2)$이고, $\\bar X_n = \\sum_{i=1}^{n} X_i$이다. 불편 추청량이라 함은 $E(S^2) = \\sigma^2$ 식이 성립한다는 것이다. 그렇다면, $E(S) = \\sigma$이라고 볼 수 있나? 그렇지 않다. 더 자세한 내용은 모 표준 편차의 불편 추청에 관한 위키피디아 문서를 참고하기 바란다[2]. 문제의 힌트를 사용해서 $E(S)$를 계산해 보겠다.\n",
    "\n",
    "$E(S) = \\frac{\\sigma}{\\sqrt{n-1}} E\\left[\\sqrt{\\frac{(n-1)S^2}{\\sigma^2}}\\right]$\n",
    "\n",
    "제곱근 안의 항은 $\\frac{(n-1)S^2}{\\sigma^2} \\sim \\chi^2(n-1)$이므로 감마분포의 확률밀도함수(pdf) $f(x)$를 이용하여 다음과 같이 쓸 수 있다.\n",
    "\n",
    "$E(S) = \\frac{\\sigma}{\\sqrt{n-1}} \\int_0^{\\infty} x^{1/2} f(x) dx$\n",
    "\n",
    "단, 확률밀도함수 f(x)는 자유도 $r$과 정의 구간 $0<x<\\infty$에 대하여 다음과 같다.\n",
    "\n",
    "$f(x) = \\frac{1}{\\Gamma(r/2) 2^{r/2}} x^{r/2 - 1} e^{-x/2}$\n",
    "\n",
    "연습문제에서 $n=9$이고, $r=n-1=8$이다. 자유도를 적분식에 넣고 감마 함수로 정리하면 어렵지 않게 $E(s)$ 값을 계산할 수도 있지만, 여기에서는 sympy 패키지를 이용하여 적분을 풀어보겠다.\n",
    "\n",
    "참고 문헌\n",
    "\n",
    "1. 호그, 매킨, 크레이그, 박태영 옮김, 수리통계학 개론, 7판, Pearson/경문사, 2018\n",
    "1. 위키피디아, Unbiased estimation of standard deviation, 최종 편집 2020년 5월 7일, https://en.wikipedia.org/wiki/Unbiased_estimation_of_standard_deviation"
   ]
  },
  {
   "cell_type": "code",
   "execution_count": 1,
   "metadata": {},
   "outputs": [
    {
     "data": {
      "image/png": "[encoded data removed]",
      "text/latex": [
       "$\\displaystyle \\frac{x^{3} e^{- \\frac{x}{2}}}{96}$"
      ],
      "text/plain": [
       "    -x \n",
       "    ───\n",
       " 3   2 \n",
       "x ⋅ℯ   \n",
       "───────\n",
       "   96  "
      ]
     },
     "execution_count": 1,
     "metadata": {},
     "output_type": "execute_result"
    }
   ],
   "source": [
    "from sympy import *\n",
    "init_printing()\n",
    "\n",
    "x, sigma = symbols('x, sigma')\n",
    "n = 9\n",
    "r = Rational(n - 1, 1)\n",
    "\n",
    "f = 1 / gamma(r / 2) / 2**(r / 2) * x**(r / 2 - 1) * exp(-x / 2)\n",
    "f"
   ]
  },
  {
   "cell_type": "code",
   "execution_count": 2,
   "metadata": {},
   "outputs": [
    {
     "data": {
      "image/png": "[encoded data removed]",
      "text/latex": [
       "$\\displaystyle \\frac{35 \\sqrt{\\pi} \\sigma}{64}$"
      ],
      "text/plain": [
       "35⋅√π⋅σ\n",
       "───────\n",
       "   64  "
      ]
     },
     "execution_count": 2,
     "metadata": {},
     "output_type": "execute_result"
    }
   ],
   "source": [
    "E_S = sigma / sqrt(r) * integrate(sqrt(x) * f, [x, 0, oo])\n",
    "# print(E_S)\n",
    "E_S"
   ]
  },
  {
   "cell_type": "code",
   "execution_count": 3,
   "metadata": {},
   "outputs": [
    {
     "data": {
      "image/png": "[encoded data removed]",
      "text/latex": [
       "$\\displaystyle 0.969310699713954 \\sigma$"
      ],
      "text/plain": [
       "0.969310699713954⋅σ"
      ]
     },
     "execution_count": 3,
     "metadata": {},
     "output_type": "execute_result"
    }
   ],
   "source": [
    "# print(E_S.evalf())\n",
    "E_S.evalf()"
   ]
  },
  {
   "cell_type": "markdown",
   "metadata": {},
   "source": [
    "불편 분산의 제곱근 기댓값은 $E(S) = 0.969 \\sigma$로 **불편 분산의 제곱근은 모 표준 편차의 불편량으로 사용할 수 없다**는 점을 확인하였다. \n",
    "\n",
    "4.2.10 (b)에서 신뢰구간이 확률변수 $t(8) = \\sqrt{9} (\\bar X - \\mu) / S$에 근거를 두므로 95% 신뢰 구간의 길이는 $2t_{\\alpha/2, n-1} S / \\sqrt{n}$이다. 마지막으로 $S$와 $\\sigma$ 관계를 삽입하면 신뢰 구간의 길이를 얻을 수 있다."
   ]
  },
  {
   "cell_type": "code",
   "execution_count": 4,
   "metadata": {},
   "outputs": [
    {
     "data": {
      "image/png": "[encoded data removed]",
      "text/latex": [
       "$\\displaystyle 1.49015524541946$"
      ],
      "text/plain": [
       "1.4901552454194642"
      ]
     },
     "execution_count": 4,
     "metadata": {},
     "output_type": "execute_result"
    }
   ],
   "source": [
    "from scipy.stats import t\n",
    "import numpy as np\n",
    "\n",
    "rv = t(n - 1)\n",
    "\n",
    "2 * rv.ppf(0.975) / np.sqrt(9) * 0.96931"
   ]
  },
  {
   "cell_type": "markdown",
   "metadata": {},
   "source": [
    "최종적으로 계산된 신뢰 구간의 길이는 1.49 $\\sigma$이다."
   ]
  }
 ],
 "metadata": {
  "kernelspec": {
   "display_name": "Python 3",
   "language": "python",
   "name": "python3"
  },
  "language_info": {
   "codemirror_mode": {
    "name": "ipython",
    "version": 3
   },
   "file_extension": ".py",
   "mimetype": "text/x-python",
   "name": "python",
   "nbconvert_exporter": "python",
   "pygments_lexer": "ipython3",
   "version": "3.8.5"
  }
 },
 "nbformat": 4,
 "nbformat_minor": 4
}
